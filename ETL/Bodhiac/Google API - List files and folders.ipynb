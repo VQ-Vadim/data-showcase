{
 "cells": [
  {
   "cell_type": "code",
   "execution_count": 2,
   "id": "b4008a35",
   "metadata": {},
   "outputs": [
    {
     "name": "stdout",
     "output_type": "stream",
     "text": [
      "Files and folders:\n",
      "Data (1rHxsmBzf5j5FuoVL5TBnVrMrm5HYvaXC)\n",
      "Error (1Qbe6g-jw9N52b_0U8RI_yXDnxbucdBce)\n",
      "Archive (15j4B2qCdHf0XPkE9Yl0dwoia3pRCBDc4)\n",
      "INPUT (1o0GOIrPh6VlE0_nHGVBQm-VnPiB30Egj)\n",
      "TEST TRANSACTIONS LOOKER (1zT9AWJoBClDMqGWeTqR3sgAH80U9Ztrs0EkGNXH2sVk)\n",
      "Invoices Bodhiac Uscreen LOOKER (18UVzEkRwmj__NWNPvucRzDq-OkWHK4MqdSvpMJgle6o)\n",
      "Financien (1Qlw_vxLyh0CUl83eTGmqyzd_pUry5Vw2)\n",
      "InvoicesBodhiacUscreenLOOKER.xlsx (1-qVnscd7CrDAPxg_dMty-W42Fjes7mYn)\n",
      "Finances Retreat VdTapia Sep 2023 (13LqlYy2r94qtThKr_Bu5QTbLdHPi8IhTFxndrCXN0SU)\n",
      "Finances Retreat VdTapia May 2023 (15VynoklbMlzubGbVtvYZo0ot1BNd8gcMuhMnaTTSyrc)\n",
      "TRANSACTIONS LOOKER (1zDBd1EvpeYDE5vLzcOMMlH-n-jeZFKvFRqc_4GK1NtY)\n",
      "ARCHIVE (1tosxxRrKZtqqseG21jI3j57oqLyaEFKw)\n",
      "Bodhiac - Business Model 2022.xlsx (1ScIznK1_peD3_KO0KsN5YJdlWRLFwGnw)\n",
      "Datum 070422.pdf (1SeFP2mmgAJRXOd2ggLdmeLDZaS26aUuI)\n",
      "Finances Retreat Belgium Feb 2023 (1rrvIPg296SfwwzBFiBDAOq8fpp08xvXVLS2wXw-HvaI)\n",
      "363-2033300-26 CA (EUR) 20220201 - 20230302 (1HpqAdH5_9-DIa4RmiS43dvaodefRPqt_8cObiFDrBeU)\n",
      "363-2033300-26 CA (EUR) 20220201 - 20230302.csv (1wVR7WmAnKnEbdPV0dyfUysa-Qia0YrfH)\n",
      "DEMO TRANSACTIONS LOOKER (1YPiWyt_SSRKERHDmF2m-UX8KNANordodJJP0Geu6KIc)\n",
      "MastercardUitreksels2023.pdf (1M5YU1AGnFbgxAWVDJiVRjw172jS4rhcA)\n",
      "MastercardUitreksels2022.pdf (1vUfMrt6yKs-8MmLt2gHCs43879e82u9X)\n",
      "Mastercard Transactions (1XE0qmDh2YWmNrnxs24PeuteYxEMmzWHo)\n",
      "1677853811 (1hEeAfhM2ys50Ecih5MLOA2kfDX68XSCTtpYw1WxANy4)\n",
      "1677853811.csv (19sEym5aHxeODF3Frr-HRVsgQG4XjXoO3)\n",
      "Dashboard Input (1C1I103lfY9pyhPRODTfb0EDf5AsR3H2m)\n",
      "Uscreen Manual Data Entry (1TQGRtOrYcZxga544nxXWCGRA-YzYBD2jEJTVc_y4zZA)\n",
      "Bohdiac - Invoices.xlsx (1ba6__JkJmoFkg-6Q-rIAZ5NmCwZ4WYit)\n",
      "Kopie van Invoices Bodhiac Uscreen LOOKER - 20230202 (16kg-VIjFs-fHHVB471_ulBhWh6s_2R_Hz1BvkoTTRb0)\n",
      "Kopie van BANK STATEMENT LOOKER - 20230202 (1rW9EYL8jS1qcAruhIzWjP5EFD4SUa86GlUUzjTrtOqo)\n",
      "Backup (1lFdjufO2spsRMhvMwNZGsaypV6fFJlit)\n",
      "363-2033300-26 CA (EUR) 20201001 - 20230118 (1cDS6FPoSABkFP3OvPfyEW3RlEYcD92pN8lsVtBGU_Ts)\n",
      "Wanderland (1rAiXTtpHZ3mxVssdwiH7rqtWdJbPN7gG)\n",
      "Retreats (1_bbolGbJH2DYhqSHrUJyP39_1NkLWk2X)\n",
      "Added (1kKOsCYGEaXLzRqfI6o8nILKIUYOxu_65)\n",
      "1675248129 (1X13PCbMPW5tMaDPdPS_NQ4L_O_x7j3v9IhRqjqakM4M)\n",
      "1675248129.csv (1psVImEX_EJuEoub03G7EG61kZxfiyLHR)\n",
      "1675247937 (163KE5RoS1MI_7hArMUh_6qFKvuwuSb7IONW_V-Eusjw)\n",
      "1675247937.csv (1475qaBf93XCp183NAFFQb3KrlhC50vSd)\n",
      "export-19.csv (1pBBEdrSTrp8IL7b0QdSKVX3_0YH1vCXb)\n",
      "export-19 (1-g6xC1tjdg4FecTpdSU7Of97OE4RFgL-yHh4-uEt258)\n",
      "Bodhiac Budget (12DyYh97ZM7-KL7Wp8rAnFidtAR3b_qkLbS8b8ukRwF0)\n",
      "Source Files (108I-RiHkLKVxwshk1x6Hpe-WVHPpb9mm)\n",
      "Refunds Bodhiac Uscreen 20230124 (1ypPsD58n8RIIofIL4IeR4Smto5QlqeunDnBHA79ZCRQ)\n",
      "1674594569.csv (1np_yhhwLRB7l7ActPID-Wa19bCpWj-S4)\n",
      "Bodhiac_Uscreen_Overview.pdf (1KDeWSDxGQUS3GPjYbe36zxTIHtuo7orv)\n",
      "Bodhiac_Overview.pdf (1oUctNhHTVIe1-nelGR6Ijtd4QsN7gVnA)\n",
      "WANDERLAND INC expenses.xlsx (1p5l2HwWeV7Msj3TvvmkrBQaKnF8FMN7C)\n",
      "Business Model (1BqlIW4M3Khqp9o_X1lSCKDMndFf-bJRI)\n",
      "363-2033300-26 CA (EUR) 20201001 - 20230118.csv (1M_ulewRtzOIlmzFLuDnw679JaGxV4nf1)\n"
     ]
    }
   ],
   "source": [
    "from google.oauth2 import service_account\n",
    "from googleapiclient.discovery import build\n",
    "\n",
    "# Replace with your own service account key file name\n",
    "SERVICE_ACCOUNT_FILE = r'C:\\Users\\Vadim\\data-config\\Google\\valiantquants-7886443d4391.json'\n",
    "\n",
    "# Replace with the scopes you want to authorize\n",
    "SCOPES = ['https://www.googleapis.com/auth/drive.readonly']\n",
    "\n",
    "# Authenticate and construct the service object\n",
    "creds = None\n",
    "creds = service_account.Credentials.from_service_account_file(\n",
    "        SERVICE_ACCOUNT_FILE, scopes=SCOPES)\n",
    "service = build('drive', 'v3', credentials=creds)\n",
    "\n",
    "# List all files and folders\n",
    "results = service.files().list(\n",
    "        pageSize=1000, fields=\"nextPageToken, files(id, name, mimeType)\").execute()\n",
    "items = results.get('files', [])\n",
    "\n",
    "# Print the results\n",
    "if not items:\n",
    "    print('No files or folders found.')\n",
    "else:\n",
    "    print('Files and folders:')\n",
    "    for item in items:\n",
    "        print('{0} ({1})'.format(item['name'], item['id']))\n"
   ]
  },
  {
   "cell_type": "code",
   "execution_count": null,
   "id": "3de4a1f7",
   "metadata": {},
   "outputs": [],
   "source": []
  }
 ],
 "metadata": {
  "kernelspec": {
   "display_name": "Python 3 (ipykernel)",
   "language": "python",
   "name": "python3"
  },
  "language_info": {
   "codemirror_mode": {
    "name": "ipython",
    "version": 3
   },
   "file_extension": ".py",
   "mimetype": "text/x-python",
   "name": "python",
   "nbconvert_exporter": "python",
   "pygments_lexer": "ipython3",
   "version": "3.9.13"
  }
 },
 "nbformat": 4,
 "nbformat_minor": 5
}
