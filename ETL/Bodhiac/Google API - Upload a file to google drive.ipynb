{
 "cells": [
  {
   "cell_type": "code",
   "execution_count": null,
   "id": "f7d7aed9",
   "metadata": {},
   "outputs": [],
   "source": [
    "from google.oauth2 import service_account\n",
    "from googleapiclient.discovery import build\n",
    "from googleapiclient.errors import HttpError\n",
    "from googleapiclient.http import MediaFileUpload\n",
    "\n",
    "# Replace with your own service account key file name\n",
    "SERVICE_ACCOUNT_FILE = r'C:\\Users\\Vadim\\data-config\\Google\\valiantquants-7886443d4391.json'\n",
    "\n",
    "# Replace with the scopes you want to authorize\n",
    "SCOPES = ['https://www.googleapis.com/auth/drive.file']\n",
    "\n",
    "# Authenticate and construct the service object\n",
    "creds = None\n",
    "creds = service_account.Credentials.from_service_account_file(\n",
    "        SERVICE_ACCOUNT_FILE, scopes=SCOPES)\n",
    "service = build('drive', 'v3', credentials=creds)\n",
    "\n",
    "# Define the file name and path to upload\n",
    "file_name = r'InvoicesBodhiacUscreenLOOKER.xlsx'\n",
    "file_path = r'C:\\Users\\Vadim\\data-showcase\\data\\InvoicesBodhiacUscreenLOOKER.xlsx'\n",
    "\n",
    "# Define the metadata for the file\n",
    "file_metadata = {'name': file_name}\n",
    "\n",
    "# Define the media file to upload\n",
    "media = MediaFileUpload(file_path, resumable=True)\n",
    "\n",
    "# Upload the file\n",
    "try:\n",
    "    file = service.files().create(body=file_metadata, media_body=media, fields='id').execute()\n",
    "    print('File ID: %s' % file.get('id'))\n",
    "except HttpError as error:\n",
    "    print('An error occurred: %s' % error)\n",
    "    file = None"
   ]
  }
 ],
 "metadata": {
  "kernelspec": {
   "display_name": "Python 3 (ipykernel)",
   "language": "python",
   "name": "python3"
  },
  "language_info": {
   "codemirror_mode": {
    "name": "ipython",
    "version": 3
   },
   "file_extension": ".py",
   "mimetype": "text/x-python",
   "name": "python",
   "nbconvert_exporter": "python",
   "pygments_lexer": "ipython3",
   "version": "3.9.13"
  }
 },
 "nbformat": 4,
 "nbformat_minor": 5
}
