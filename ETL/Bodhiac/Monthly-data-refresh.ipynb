{
 "cells": [
  {
   "cell_type": "markdown",
   "id": "9e1ac103-95a6-4360-8261-695f79dc17e5",
   "metadata": {},
   "source": [
    "# Bodhiac Monthly Data Refresh - ETL"
   ]
  },
  {
   "cell_type": "markdown",
   "id": "23689620-9f35-4332-9903-d45ffffa24d2",
   "metadata": {},
   "source": [
    "This script contains the monthly data refresh of Bodhiac BV.\n",
    "It was designed by Valiant Quants to automatically add new data and calculations to their BI dashboards."
   ]
  },
  {
   "cell_type": "markdown",
   "id": "68c15546-8e4a-4427-b610-e9bf15a72908",
   "metadata": {},
   "source": [
    "## Libraries"
   ]
  },
  {
   "cell_type": "code",
   "execution_count": 59,
   "id": "95dbf00c",
   "metadata": {},
   "outputs": [],
   "source": [
    "import os\n",
    "import io\n",
    "import requests\n",
    "import pandas as pd\n",
    "import datetime\n",
    "import pytz\n",
    "import csv\n",
    "from google.oauth2 import service_account\n",
    "from googleapiclient.discovery import build\n",
    "from googleapiclient.errors import HttpError\n",
    "from googleapiclient.http import MediaIoBaseDownload\n",
    "from urllib.request import urlretrieve"
   ]
  },
  {
   "cell_type": "markdown",
   "id": "d641af46-d2a1-43bb-9d74-11217508d441",
   "metadata": {},
   "source": [
    "## Config"
   ]
  },
  {
   "cell_type": "markdown",
   "id": "1d861581-98c9-48ef-8d00-9563c92c9b1f",
   "metadata": {},
   "source": [
    "IMPORTANT: set the correct files to refresh, path location and Google Drive API linked to your private key."
   ]
  },
  {
   "cell_type": "code",
   "execution_count": 61,
   "id": "d1a5bc6d",
   "metadata": {},
   "outputs": [],
   "source": [
    "# set the path where you want to save the file\n",
    "save_path = r\"C:\\Users\\Vadim\\data-sources\\bodhiac\" # Local data folder for temp storage\n",
    "\n",
    "# set the name you want to give the file\n",
    "file_name = r'bodhiac-transactions.csv' # Invoices\n",
    "\n",
    "# set the file ID of the file you want to download\n",
    "file_id = r'1zT9AWJoBClDMqGWeTqR3sgAH80U9Ztrs0EkGNXH2sVk' # r'18UVzEkRwmj__NWNPvucRzDq-OkWHK4MqdSvpMJgle6o'\n",
    "\n",
    "# Set the ID of the folder that you want to download files from\n",
    "folder_id = '1o0GOIrPh6VlE0_nHGVBQm-VnPiB30Egj' # DATA / INPUT\n",
    "\n",
    "# Set the ID of the spreadsheet that you want to update\n",
    "spreadsheet_id = r'1zT9AWJoBClDMqGWeTqR3sgAH80U9Ztrs0EkGNXH2sVk'  # DASHBOARD FILE (IF DIFFERENT FROM ABOVE)\n",
    "\n",
    "# Set the range of cells that you want to update\n",
    "range_name = 'BANK STATEMENTS!A1:ZZ10000'\n",
    "\n",
    "# Set the range of cells that you want to update\n",
    "range_transactions = 'E:E'\n"
   ]
  },
  {
   "cell_type": "code",
   "execution_count": 49,
   "id": "b73de744-4f83-4ff5-b2f3-88b542061158",
   "metadata": {},
   "outputs": [],
   "source": [
    "# set the credentials to authenticate with the Google Drive API\n",
    "creds = service_account.Credentials.from_service_account_file(\n",
    "    r'C:\\Users\\Vadim\\data-config\\Google\\valiantquants-7886443d4391.json')\n",
    "\n",
    "# set the MIME type of the export format you want\n",
    "mime_type = r'text/csv'\n",
    "\n",
    "#print(os.path.join(save_path, file_name))"
   ]
  },
  {
   "cell_type": "markdown",
   "id": "65917d2c-0242-4ce5-9705-a6586103128a",
   "metadata": {},
   "source": [
    "# ETL Extraction"
   ]
  },
  {
   "cell_type": "markdown",
   "id": "1bcf3436-f2d2-4336-a78c-c3d68d6f33cc",
   "metadata": {},
   "source": [
    "## Get Invoices Data from Dashboard file"
   ]
  },
  {
   "cell_type": "markdown",
   "id": "532cbe6d-c242-4abd-af22-69d3354a1668",
   "metadata": {},
   "source": [
    "Below we will export the existing data from the file that we are using in the Looker dashboard and store it locally."
   ]
  },
  {
   "cell_type": "code",
   "execution_count": 36,
   "id": "408b1f18",
   "metadata": {},
   "outputs": [
    {
     "data": {
      "text/plain": [
       "\"\\ntry:\\n    # create a Google Drive API client\\n    service = build('drive', 'v3', credentials=creds)\\n\\n    # export the file contents\\n    request = service.files().export(fileId=file_id, mimeType=mime_type)\\n    file_content = io.BytesIO()\\n    downloader = MediaIoBaseDownload(file_content, request)\\n    done = False\\n    while done is False:\\n        status, done = downloader.next_chunk()\\n        print(f'Download {int(status.progress() * 100)}.')\\n    \\n    # save the file to disk\\n    with open(os.path.join(save_path, file_name), 'wb') as f:\\n        f.write(file_content.getbuffer())\\n\\n    print(f'Download complete: {os.path.join(save_path, file_name)}')\\n\\nexcept HttpError as error:\\n    print(f'An error occurred: {error}')\\n\""
      ]
     },
     "execution_count": 36,
     "metadata": {},
     "output_type": "execute_result"
    }
   ],
   "source": [
    "try:\n",
    "    # create a Google Drive API client\n",
    "    service = build('drive', 'v3', credentials=creds)\n",
    "\n",
    "    # export the file contents\n",
    "    request = service.files().export(fileId=file_id, mimeType=mime_type)\n",
    "    file_content = io.BytesIO()\n",
    "    downloader = MediaIoBaseDownload(file_content, request)\n",
    "    done = False\n",
    "    while done is False:\n",
    "        status, done = downloader.next_chunk()\n",
    "        print(f'Download {int(status.progress() * 100)}.')\n",
    "    \n",
    "    # save the file to disk\n",
    "    with open(os.path.join(save_path, file_name), 'wb') as f:\n",
    "        f.write(file_content.getbuffer())\n",
    "\n",
    "    print(f'Download complete: {os.path.join(save_path, file_name)}')\n",
    "\n",
    "except HttpError as error:\n",
    "    print(f'An error occurred: {error}')"
   ]
  },
  {
   "cell_type": "markdown",
   "id": "206b0cc5-d096-4ee4-86ff-33cad4ef590c",
   "metadata": {},
   "source": [
    "## Download files from INPUT sftp folder"
   ]
  },
  {
   "cell_type": "markdown",
   "id": "3de9e8e7-397f-4d0b-84c9-e4ab469db86e",
   "metadata": {},
   "source": [
    "New files to be processed."
   ]
  },
  {
   "cell_type": "code",
   "execution_count": 34,
   "id": "8f6571b9-3968-47b4-96be-affda4e71689",
   "metadata": {},
   "outputs": [
    {
     "name": "stdout",
     "output_type": "stream",
     "text": [
      "Download 100.\n",
      "Download complete: C:\\Users\\Vadim\\data-showcase\\data\\bodhiac-invoices-full.csv\n"
     ]
    }
   ],
   "source": [
    "# List all files in the folder\n",
    "service = build('drive', 'v3', credentials=creds)\n",
    "query = \"parents='\" + folder_id + \"' and trashed=false\"\n",
    "results = service.files().list(q=query, fields=\"nextPageToken, files(id, name, mimeType)\").execute()\n",
    "files = results.get('files', [])\n",
    "\n",
    "# Download each file\n",
    "if not files:\n",
    "    print('No files found.')\n",
    "else:\n",
    "    for file in files:\n",
    "        try:\n",
    "            file_id = file['id']\n",
    "            file_name = file['name']\n",
    "            file_mime_type = file['mimeType']\n",
    "            if file_mime_type != 'application/vnd.google-apps.folder':  \n",
    "                # export the file contents\n",
    "                request = service.files().get_media(fileId=file_id)\n",
    "                file_content = io.BytesIO()\n",
    "                downloader = MediaIoBaseDownload(file_content, request)\n",
    "                done = False\n",
    "                while done is False:\n",
    "                    status, done = downloader.next_chunk()\n",
    "                    print(f'Download {int(status.progress() * 100)}.')\n",
    "                # save the file to disk\n",
    "                with open(os.path.join(save_path, file_name), 'wb') as f:\n",
    "                    f.write(file_content.getbuffer())\n",
    "                print(f'Download complete: {os.path.join(save_path, file_name)}')\n",
    "        except HttpError as error:\n",
    "            print('An error occurred: %s' % error)\n"
   ]
  },
  {
   "cell_type": "markdown",
   "id": "6655ca3a-8990-4c33-8f52-f3c3fc01decf",
   "metadata": {},
   "source": [
    "# ETL Transformations"
   ]
  },
  {
   "cell_type": "code",
   "execution_count": 46,
   "id": "d75cba18-e959-4db5-8a17-9e29cc0d64dd",
   "metadata": {},
   "outputs": [
    {
     "name": "stdout",
     "output_type": "stream",
     "text": [
      "        ID                   Gateway ID                       Email  \\\n",
      "0  4909439  ch_1HoSNgBte6Tcs36KIUaIl77Y         info@moonbeetle.com   \n",
      "1  4945862                          NaN           hello@bodhiac.com   \n",
      "2  5060382                          NaN  gitte.verstricht@gmail.com   \n",
      "3  5060383                          NaN     juliewindey@hotmail.com   \n",
      "4  5060385                          NaN    joellesimons@hotmail.com   \n",
      "\n",
      "                 Name  User ID                                    Product  \\\n",
      "0    Joris Heyndrickx  4759007                           Beginners Series   \n",
      "1  Alice from Bodhiac  3967004                     Weekly BODHIAC Program   \n",
      "2    Gitte Verstricht  4871074  Yearly Membership (Incl 7-day free trial)   \n",
      "3        Julie Windey  4871075  Yearly Membership (Incl 7-day free trial)   \n",
      "4       Simons joëlle  4871072  Yearly Membership (Incl 7-day free trial)   \n",
      "\n",
      "   Product ID Coupon Total Discount  ...               Last Attempt  \\\n",
      "0       42533   TEST     1        0  ...  2020-11-17 12:29:54 +0100   \n",
      "1       42752    NaN     0        0  ...  2020-11-19 19:50:03 +0100   \n",
      "2       42270    NaN     0        0  ...  2020-11-27 00:01:34 +0100   \n",
      "3       42270    NaN     0        0  ...  2020-11-27 00:01:50 +0100   \n",
      "4       42270    NaN     0        0  ...  2020-11-27 00:01:59 +0100   \n",
      "\n",
      "                     Paid On  Payment Provider Author Payment Processing Fee  \\\n",
      "0  2020-11-17 12:29:53 +0100            stripe    NaN                    NaN   \n",
      "1  2020-11-19 19:50:03 +0100            stripe    NaN                    NaN   \n",
      "2  2020-11-27 00:01:33 +0100            stripe    NaN                    NaN   \n",
      "3  2020-11-27 00:01:50 +0100            stripe    NaN                    NaN   \n",
      "4  2020-11-27 00:01:58 +0100            stripe    NaN                    NaN   \n",
      "\n",
      "  Handling Fee Platform Fee Payout On CountryOfSub Record-Count-with-Refund  \n",
      "0          NaN          NaN       NaN          NaN                        1  \n",
      "1          NaN          NaN       NaN          NaN                        1  \n",
      "2          NaN          NaN       NaN      Belgium                        1  \n",
      "3          NaN          NaN       NaN       België                        1  \n",
      "4          NaN          NaN       NaN      Belgium                        1  \n",
      "\n",
      "[5 rows x 31 columns]\n"
     ]
    }
   ],
   "source": [
    "# Replace 'path/to/csv/file.csv' with the actual path to your CSV file\n",
    "df = pd.read_csv(os.path.join(save_path, file_name))\n",
    "\n",
    "# Display the first few rows of the DataFrame\n",
    "print(df.head())"
   ]
  },
  {
   "cell_type": "code",
   "execution_count": 45,
   "id": "cddf8847-b7a2-428b-86fd-0a11e96da6b5",
   "metadata": {},
   "outputs": [
    {
     "name": "stdout",
     "output_type": "stream",
     "text": [
      "C:\\Users\\Vadim\\data-showcase\\data\\bodhiac-invoices-full.csv\n"
     ]
    }
   ],
   "source": []
  },
  {
   "cell_type": "markdown",
   "id": "0eb4ef10-b201-4f35-94d8-6a4a515c68ec",
   "metadata": {},
   "source": [
    "# ETL Load"
   ]
  },
  {
   "cell_type": "code",
   "execution_count": 91,
   "id": "008add1b",
   "metadata": {},
   "outputs": [
    {
     "data": {
      "text/plain": [
       "{'spreadsheetId': '1zT9AWJoBClDMqGWeTqR3sgAH80U9Ztrs0EkGNXH2sVk',\n",
       " 'clearedRange': \"'BANK STATEMENTS'!A1:AE1979\"}"
      ]
     },
     "execution_count": 91,
     "metadata": {},
     "output_type": "execute_result"
    }
   ],
   "source": [
    "# Clear the data in the sheet\n",
    "service = build('sheets', 'v4', credentials=creds)\n",
    "clear_values_request_body = {}\n",
    "service.spreadsheets().values().clear(spreadsheetId=spreadsheet_id, range=range_name, body=clear_values_request_body).execute()"
   ]
  },
  {
   "cell_type": "code",
   "execution_count": 92,
   "id": "990d9f15",
   "metadata": {},
   "outputs": [
    {
     "name": "stdout",
     "output_type": "stream",
     "text": [
      "Data updated successfully.\n"
     ]
    }
   ],
   "source": [
    "# Write new data to the sheet\n",
    "with open(os.path.join(save_path, file_name), 'r') as csv_file:\n",
    "    reader = csv.reader(csv_file)\n",
    "    values = list(reader)\n",
    "    body = {\n",
    "        'values': values\n",
    "    }\n",
    "    write_values_request_body = {\n",
    "        'valueInputOption': 'USER_ENTERED',\n",
    "        'data': [\n",
    "            {\n",
    "                'range': range_name,\n",
    "                'majorDimension': 'ROWS',\n",
    "                'values': values\n",
    "            }\n",
    "        ]\n",
    "    }\n",
    "    service.spreadsheets().values().batchUpdate(spreadsheetId=spreadsheet_id, body=write_values_request_body).execute()\n",
    "\n",
    "print('Data updated successfully.')"
   ]
  },
  {
   "cell_type": "code",
   "execution_count": 50,
   "id": "5359a36e",
   "metadata": {},
   "outputs": [
    {
     "name": "stdout",
     "output_type": "stream",
     "text": [
      "C:\\Users\\Vadim\\data-showcase\\data\\bodhiac-transactions.csv\n"
     ]
    }
   ],
   "source": [
    "print(os.path.join(save_path, file_name))"
   ]
  },
  {
   "cell_type": "code",
   "execution_count": 93,
   "id": "b13f7f0a-38e4-45b6-ac92-80aac95807a6",
   "metadata": {},
   "outputs": [
    {
     "name": "stdout",
     "output_type": "stream",
     "text": [
      "[['01/03/2022'], ['01/03/2022'], ['01/03/2022'], ['01/03/2022'], ['03/03/2022'], ['03/03/2022'], ['04/03/2022'], ['08/03/2022'], ['09/03/2022'], ['10/03/2022'], ['11/03/2022'], ['11/03/2022'], ['14/03/2022'], ['16/03/2022'], ['16/03/2022'], ['17/03/2022'], ['18/03/2022'], ['24/03/2022'], ['25/03/2022'], ['28/03/2022'], ['29/03/2022'], ['29/03/2022'], ['29/03/2022'], ['31/03/2022'], ['01/04/2022'], ['04/04/2022'], ['06/04/2022'], ['06/04/2022'], ['07/04/2022'], ['08/04/2022'], ['13/04/2022'], ['14/04/2022'], ['19/04/2022'], ['19/04/2022'], ['20/04/2022'], ['20/04/2022'], ['21/04/2022'], ['22/04/2022'], ['25/04/2022'], ['26/04/2022'], ['26/04/2022'], ['26/04/2022'], ['27/04/2022'], ['27/04/2022'], ['28/04/2022'], ['29/04/2022'], ['02/05/2022'], ['03/05/2022'], ['05/05/2022'], ['06/05/2022'], ['10/05/2022'], ['10/05/2022'], ['10/05/2022'], ['11/05/2022'], ['11/05/2022'], ['12/05/2022'], ['12/05/2022'], ['16/05/2022'], ['17/05/2022'], ['18/05/2022'], ['19/05/2022'], ['19/05/2022'], ['23/05/2022'], ['23/05/2022'], ['24/05/2022'], ['24/05/2022'], ['24/05/2022'], ['24/05/2022'], ['25/05/2022'], ['26/05/2022'], ['27/05/2022'], ['27/05/2022'], ['30/05/2022'], ['01/06/2022'], ['01/06/2022'], ['01/06/2022'], ['01/06/2022'], ['01/06/2022'], ['01/06/2022'], ['02/06/2022'], ['02/06/2022'], ['06/06/2022'], ['06/06/2022'], ['07/06/2022'], ['08/06/2022'], ['08/06/2022'], ['08/06/2022'], ['09/06/2022'], ['09/06/2022'], ['09/06/2022'], ['10/06/2022'], ['13/06/2022'], ['13/06/2022'], ['13/06/2022'], ['13/06/2022'], ['15/06/2022'], ['15/06/2022'], ['15/06/2022'], ['15/06/2022'], ['16/06/2022'], ['16/06/2022'], ['16/06/2022'], ['17/06/2022'], ['20/06/2022'], ['23/06/2022'], ['27/06/2022'], ['28/06/2022'], ['28/06/2022'], ['28/06/2022'], ['28/06/2022'], ['30/06/2022'], ['01/07/2022'], ['01/07/2022'], ['01/07/2022'], ['01/07/2022'], ['04/07/2022'], ['07/07/2022'], ['07/07/2022'], ['09/07/2022'], ['11/07/2022'], ['12/07/2022'], ['12/07/2022'], ['13/07/2022'], ['13/07/2022'], ['13/07/2022'], ['18/07/2022'], ['18/07/2022'], ['19/07/2022']]\n"
     ]
    }
   ],
   "source": [
    "# Use the Google Sheets API to read the data from the spreadsheet and filter it based on the date criteria.\n",
    "sheet_values = service.spreadsheets().values().get(spreadsheetId=spreadsheet_id, range=range_transactions).execute().get('values', [])\n",
    "sheet_metadata = service.spreadsheets().get(spreadsheetId=spreadsheet_id).execute()\n",
    "sheet_id = sheet_metadata['sheets'][0]['properties']['sheetId'])\n",
    "sheet_values = sheet_values[1:]\n",
    "\n",
    "filtered_values = [row for row in sheet_values if row and datetime.datetime.strptime(row[0], \"%d/%m/%Y\").date() >= datetime.date(2022, 3, 1)]\n",
    "\n",
    "print(filtered_values)"
   ]
  },
  {
   "cell_type": "code",
   "execution_count": 94,
   "id": "1b51b7e6-ab6f-412b-a98d-db3fa6f0132d",
   "metadata": {},
   "outputs": [
    {
     "name": "stdout",
     "output_type": "stream",
     "text": [
      "128 rows deleted.\n"
     ]
    }
   ],
   "source": [
    "# Use the Google Sheets API to delete the filtered data from the spreadsheet.\n",
    "if filtered_values:\n",
    "    num_rows = len(filtered_values)\n",
    "    body = {'requests': [{'deleteRange': {'range': {'sheetId': sheet_id, 'startRowIndex': 1, 'endRowIndex': num_rows+1, 'startColumnIndex': 0, 'endColumnIndex': 100}, 'shiftDimension': 'ROWS'}}]}\n",
    "    service.spreadsheets().batchUpdate(spreadsheetId=spreadsheet_id, body=body).execute()\n",
    "    print(f'{num_rows} rows deleted.')\n",
    "else:\n",
    "    print('No rows to delete.')"
   ]
  },
  {
   "cell_type": "code",
   "execution_count": 87,
   "id": "e46070c2-e4e6-44a1-8823-fdb5490c981f",
   "metadata": {},
   "outputs": [
    {
     "ename": "AttributeError",
     "evalue": "'Resource' object has no attribute 'get'",
     "output_type": "error",
     "traceback": [
      "\u001b[1;31m---------------------------------------------------------------------------\u001b[0m",
      "\u001b[1;31mAttributeError\u001b[0m                            Traceback (most recent call last)",
      "\u001b[1;32m~\\AppData\\Local\\Temp\\ipykernel_4048\\2448450417.py\u001b[0m in \u001b[0;36m<module>\u001b[1;34m\u001b[0m\n\u001b[1;32m----> 1\u001b[1;33m \u001b[0mservice\u001b[0m\u001b[1;33m.\u001b[0m\u001b[0mspreadsheets\u001b[0m\u001b[1;33m(\u001b[0m\u001b[1;33m)\u001b[0m\u001b[1;33m.\u001b[0m\u001b[0msheets\u001b[0m\u001b[1;33m(\u001b[0m\u001b[1;33m)\u001b[0m\u001b[1;33m.\u001b[0m\u001b[0mget\u001b[0m\u001b[1;33m(\u001b[0m\u001b[0mspreadsheetId\u001b[0m\u001b[1;33m=\u001b[0m\u001b[0mspreadsheet_id\u001b[0m\u001b[1;33m,\u001b[0m \u001b[0mrange\u001b[0m\u001b[1;33m=\u001b[0m\u001b[0mrange_transactions\u001b[0m\u001b[1;33m)\u001b[0m\u001b[1;33m\u001b[0m\u001b[1;33m\u001b[0m\u001b[0m\n\u001b[0m",
      "\u001b[1;31mAttributeError\u001b[0m: 'Resource' object has no attribute 'get'"
     ]
    }
   ],
   "source": [
    "service.spreadsheets().sheets().get(spreadsheetId=spreadsheet_id, range=range_transactions)"
   ]
  },
  {
   "cell_type": "code",
   "execution_count": 104,
   "id": "936f1291-1ab7-4eb3-b23c-61e2729136ba",
   "metadata": {},
   "outputs": [
    {
     "name": "stdout",
     "output_type": "stream",
     "text": [
      "1225125937\n"
     ]
    }
   ],
   "source": [
    "\n",
    "# Call the spreadsheets().get() method to get the sheet ID\n",
    "sheet_metadata = service.spreadsheets().get(spreadsheetId=spreadsheet_id).execute()\n",
    "print(sheet_metadata['sheets'][0]['properties']['sheetId'])"
   ]
  },
  {
   "cell_type": "code",
   "execution_count": null,
   "id": "b9ee7355-cabb-4f39-83ce-3975c1f72235",
   "metadata": {},
   "outputs": [],
   "source": []
  }
 ],
 "metadata": {
  "kernelspec": {
   "display_name": "Python 3 (ipykernel)",
   "language": "python",
   "name": "python3"
  },
  "language_info": {
   "codemirror_mode": {
    "name": "ipython",
    "version": 3
   },
   "file_extension": ".py",
   "mimetype": "text/x-python",
   "name": "python",
   "nbconvert_exporter": "python",
   "pygments_lexer": "ipython3",
   "version": "3.9.13"
  }
 },
 "nbformat": 4,
 "nbformat_minor": 5
}
