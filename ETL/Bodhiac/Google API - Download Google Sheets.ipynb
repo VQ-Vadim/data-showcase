{
 "cells": [
  {
   "cell_type": "code",
   "execution_count": null,
   "id": "4141923f-9875-4a0a-8912-dc5aa19f5de2",
   "metadata": {},
   "outputs": [],
   "source": [
    "import os\n",
    "import io\n",
    "import requests\n",
    "import pandas\n",
    "from google.oauth2 import service_account\n",
    "from googleapiclient.discovery import build\n",
    "from googleapiclient.errors import HttpError\n",
    "from googleapiclient.http import MediaIoBaseDownload"
   ]
  },
  {
   "cell_type": "code",
   "execution_count": null,
   "id": "68c70750-475b-48ab-97bf-c6c540380a31",
   "metadata": {},
   "outputs": [],
   "source": [
    "# set the file ID of the file you want to download\n",
    "file_id = r'1zT9AWJoBClDMqGWeTqR3sgAH80U9Ztrs0EkGNXH2sVk' # r'18UVzEkRwmj__NWNPvucRzDq-OkWHK4MqdSvpMJgle6o'\n",
    "\n",
    "# set the MIME type of the export format you want\n",
    "mime_type = r'text/csv'\n",
    "\n",
    "# set the path where you want to save the file\n",
    "save_path = r\"C:\\Users\\Vadim\\data-showcase\\data\" # Local data folder for temp storage\n",
    "\n",
    "# set the credentials to authenticate with the Google Drive API\n",
    "creds = service_account.Credentials.from_service_account_file(\n",
    "    r'C:\\Users\\Vadim\\data-config\\Google\\valiantquants-7886443d4391.json')\n",
    "\n",
    "#print(os.path.join(save_path, file_name))"
   ]
  },
  {
   "cell_type": "code",
   "execution_count": null,
   "id": "f8f31545-bb4b-4260-9735-8f68b573d787",
   "metadata": {},
   "outputs": [],
   "source": [
    "try:\n",
    "    # create a Google Drive API client\n",
    "    service = build('drive', 'v3', credentials=creds)\n",
    "\n",
    "    # export the file contents\n",
    "    request = service.files().export(fileId=file_id, mimeType=mime_type)\n",
    "    file_content = io.BytesIO()\n",
    "    downloader = MediaIoBaseDownload(file_content, request)\n",
    "    done = False\n",
    "    while done is False:\n",
    "        status, done = downloader.next_chunk()\n",
    "        print(f'Download {int(status.progress() * 100)}.')\n",
    "    \n",
    "    # save the file to disk\n",
    "    with open(os.path.join(save_path, file_name), 'wb') as f:\n",
    "        f.write(file_content.getbuffer())\n",
    "\n",
    "    print(f'Download complete: {os.path.join(save_path, file_name)}')\n",
    "\n",
    "except HttpError as error:\n",
    "    print(f'An error occurred: {error}')"
   ]
  }
 ],
 "metadata": {
  "kernelspec": {
   "display_name": "Python 3 (ipykernel)",
   "language": "python",
   "name": "python3"
  },
  "language_info": {
   "codemirror_mode": {
    "name": "ipython",
    "version": 3
   },
   "file_extension": ".py",
   "mimetype": "text/x-python",
   "name": "python",
   "nbconvert_exporter": "python",
   "pygments_lexer": "ipython3",
   "version": "3.9.13"
  }
 },
 "nbformat": 4,
 "nbformat_minor": 5
}
